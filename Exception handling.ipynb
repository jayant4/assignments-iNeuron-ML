{
 "cells": [
  {
   "cell_type": "markdown",
   "metadata": {},
   "source": [
    "1. Write a function to compute 5/0 and use try/except to catch the exceptions.\n"
   ]
  },
  {
   "cell_type": "code",
   "execution_count": null,
   "metadata": {},
   "outputs": [],
   "source": []
  },
  {
   "cell_type": "code",
   "execution_count": 2,
   "metadata": {},
   "outputs": [],
   "source": [
    "def handle_error(numerator,denominator):\n",
    "    \n",
    "    try :\n",
    "        print(numerator/denominator)\n",
    "        \n",
    "    except :\n",
    "        print('denominator value is 0 : not possible')"
   ]
  },
  {
   "cell_type": "code",
   "execution_count": 23,
   "metadata": {},
   "outputs": [
    {
     "name": "stdout",
     "output_type": "stream",
     "text": [
      "5.0\n"
     ]
    }
   ],
   "source": [
    "handle_error(10,2)"
   ]
  },
  {
   "cell_type": "code",
   "execution_count": 4,
   "metadata": {},
   "outputs": [
    {
     "name": "stdout",
     "output_type": "stream",
     "text": [
      "denominator value is 0 : not possible\n"
     ]
    }
   ],
   "source": [
    "handle_error(5,0)"
   ]
  },
  {
   "cell_type": "code",
   "execution_count": null,
   "metadata": {},
   "outputs": [],
   "source": []
  },
  {
   "cell_type": "raw",
   "metadata": {},
   "source": [
    "\n",
    "\n",
    "2. Implement a Python program to generate all sentences where subject is in\n",
    "[\"Americans\", \"Indians\"] and verb is in [\"Play\", \"watch\"] and the object is in\n",
    "[\"Baseball\",\"cricket\"].\n",
    "Hint: Subject,Verb and Object should be declared in the program as shown below.\n",
    "subjects=[\"Americans \",\"Indians\"]\n",
    "verbs=[\"play\",\"watch\"]\n",
    "objects=[\"Baseball\",\"Cricket\"]\n",
    "Output should come as below:\n",
    "Americans play Baseball.\n",
    "Americans play Cricket.\n",
    "Americans watch Baseball.\n",
    "Americans watch Cricket.\n",
    "Indians play Baseball.\n",
    "Indians play Cricket.\n",
    "Indians watch Baseball.\n",
    "Indians watch Cricket.\n"
   ]
  },
  {
   "cell_type": "code",
   "execution_count": null,
   "metadata": {},
   "outputs": [],
   "source": []
  },
  {
   "cell_type": "code",
   "execution_count": 24,
   "metadata": {
    "scrolled": true
   },
   "outputs": [
    {
     "name": "stdout",
     "output_type": "stream",
     "text": [
      " Americans  play  Baseball \n",
      " Americans  play  Cricket \n",
      " Americans  watch  Baseball \n",
      " Americans  watch  Cricket \n",
      " Indians  play  Baseball \n",
      " Indians  play  Cricket \n",
      " Indians  watch  Baseball \n",
      " Indians  watch  Cricket \n"
     ]
    }
   ],
   "source": [
    "subjects=[\" Americans \",\" Indians \"]\n",
    "verbs=[\" play \",\" watch \"]\n",
    "objects=[\" Baseball \",\" Cricket \"]\n",
    "\n",
    "for s in subjects:\n",
    "    \n",
    "    for v in verbs:\n",
    "       \n",
    "        for o in objects:\n",
    "            print(s + v + o)"
   ]
  },
  {
   "cell_type": "code",
   "execution_count": 22,
   "metadata": {},
   "outputs": [
    {
     "name": "stdout",
     "output_type": "stream",
     "text": [
      " Americans  play  Baseball \n",
      " Americans  play  Cricket \n",
      " Americans  watch  Baseball \n",
      " Americans  watch  Cricket \n",
      " Indians  play  Baseball \n",
      " Indians  play  Cricket \n",
      " Indians  watch  Baseball \n",
      " Indians  watch  Cricket \n"
     ]
    }
   ],
   "source": [
    "# Trying with list compression\n",
    "lst=[s+v+o for s in subjects for v in verbs for o in objects]\n",
    "for i in lst: print(i)"
   ]
  }
 ],
 "metadata": {
  "kernelspec": {
   "display_name": "Python 3",
   "language": "python",
   "name": "python3"
  },
  "language_info": {
   "codemirror_mode": {
    "name": "ipython",
    "version": 3
   },
   "file_extension": ".py",
   "mimetype": "text/x-python",
   "name": "python",
   "nbconvert_exporter": "python",
   "pygments_lexer": "ipython3",
   "version": "3.7.3"
  }
 },
 "nbformat": 4,
 "nbformat_minor": 2
}
