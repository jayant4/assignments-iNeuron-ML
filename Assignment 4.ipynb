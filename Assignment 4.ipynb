{
 "cells": [
  {
   "cell_type": "markdown",
   "metadata": {},
   "source": [
    "1.1 Write a Python Program(with class concepts) to find the area of the triangle using the below\n",
    "formula.\n",
    "area = (s*(s-a)*(s-b)*(s-c)) ** 0.5\n",
    "Function to take the length of the sides of triangle from user should be defined in the parent\n",
    "class and function to calculate the area should be defined in subclass."
   ]
  },
  {
   "cell_type": "code",
   "execution_count": null,
   "metadata": {},
   "outputs": [],
   "source": []
  },
  {
   "cell_type": "code",
   "execution_count": 52,
   "metadata": {},
   "outputs": [
    {
     "name": "stdout",
     "output_type": "stream",
     "text": [
      "enter side a : 4\n",
      "enter side b : 7\n",
      "enter side c : 9\n",
      "area of triangle is :  90.0\n"
     ]
    }
   ],
   "source": [
    "class input_data:\n",
    "\n",
    "\n",
    "    def get_sides(self):\n",
    "        \n",
    "        a=float(input('enter side a : '))\n",
    "        b=float(input('enter side b : '))\n",
    "        c=float(input('enter side c : '))        \n",
    "        return(a,b,c)\n",
    "\n",
    "\n",
    "class calculate_area_triangle(input_data):\n",
    "\n",
    "    def __init__(self,a,b,c):\n",
    "         self.a,self.b,self.c=super(calculate_area_triangle, self).get_sides()\n",
    "\n",
    "    def calc(self):\n",
    "        \n",
    "        a=self.a\n",
    "        b=self.b\n",
    "        c=self.c\n",
    "\n",
    "        \n",
    "        s = (a + b + c) / 2\n",
    "        area = s*(s-a)*(s - b)*(s - c)*0.5\n",
    "        print('area of triangle is : ', area)\n",
    "\n",
    "\n",
    "obj=calculate_area_triangle(9,10,4)\n",
    "obj.calc()\n",
    "\n",
    "\n",
    "# formula refrence from : https://www.mathsisfun.com/geometry/herons-formula.html"
   ]
  },
  {
   "cell_type": "code",
   "execution_count": null,
   "metadata": {},
   "outputs": [],
   "source": []
  },
  {
   "cell_type": "code",
   "execution_count": null,
   "metadata": {},
   "outputs": [],
   "source": []
  },
  {
   "cell_type": "code",
   "execution_count": null,
   "metadata": {},
   "outputs": [],
   "source": []
  },
  {
   "cell_type": "markdown",
   "metadata": {},
   "source": [
    "1.2 Write a function filter_long_words() that takes a list of words and an integer n and returns\n",
    "the list of words that are longer than n.\n"
   ]
  },
  {
   "cell_type": "code",
   "execution_count": null,
   "metadata": {},
   "outputs": [],
   "source": []
  },
  {
   "cell_type": "code",
   "execution_count": 43,
   "metadata": {},
   "outputs": [
    {
     "name": "stdout",
     "output_type": "stream",
     "text": [
      "['abcdef']\n"
     ]
    }
   ],
   "source": [
    "#normal function\n",
    "def filter_long_words(list_of_words,length):  \n",
    "  \n",
    "  result_list=[i for i in list_of_words if len(i)>length]\n",
    "  return result_list\n",
    "    \n",
    "print(filter_long_words(['a','ab','abcdef'],5))"
   ]
  },
  {
   "cell_type": "code",
   "execution_count": 44,
   "metadata": {},
   "outputs": [
    {
     "name": "stdout",
     "output_type": "stream",
     "text": [
      "['abcdef']\n"
     ]
    }
   ],
   "source": [
    "# Trying same with lambda function\n",
    "\n",
    "filter_long_words= (lambda list_of_words,length : [i for i in list_of_words if len(i)>length])\n",
    "\n",
    "print(filter_long_words(['a','ab','abcdef'],5))\n",
    "\n",
    "\n",
    "\n"
   ]
  },
  {
   "cell_type": "code",
   "execution_count": null,
   "metadata": {},
   "outputs": [],
   "source": []
  },
  {
   "cell_type": "markdown",
   "metadata": {},
   "source": [
    "2.1 Write a Python program using function concept that maps list of words into a list of integers\n",
    "representing the lengths of the corresponding words.\n",
    "Hint: If a list [ ab,cde,erty] is passed on to the python function output should come as [2,3,4]\n",
    "Here 2,3 and 4 are the lengths of the words in the list.\n"
   ]
  },
  {
   "cell_type": "code",
   "execution_count": null,
   "metadata": {},
   "outputs": [],
   "source": []
  },
  {
   "cell_type": "code",
   "execution_count": 45,
   "metadata": {},
   "outputs": [],
   "source": [
    "#normal function\n",
    "def calculate_length_of_words(list_of_words):\n",
    "    return [len(i) for i in list_of_words]"
   ]
  },
  {
   "cell_type": "code",
   "execution_count": 46,
   "metadata": {},
   "outputs": [
    {
     "name": "stdout",
     "output_type": "stream",
     "text": [
      "[1, 2, 3]\n"
     ]
    }
   ],
   "source": [
    "print(calculate_length_of_words(['a','ab','abc']))"
   ]
  },
  {
   "cell_type": "code",
   "execution_count": null,
   "metadata": {},
   "outputs": [],
   "source": []
  },
  {
   "cell_type": "code",
   "execution_count": 47,
   "metadata": {},
   "outputs": [
    {
     "name": "stdout",
     "output_type": "stream",
     "text": [
      "[5, 1, 2, 3]\n"
     ]
    }
   ],
   "source": [
    "# Trying same with lambda function\n",
    "\n",
    "calculate_length_of_words= lambda list_of_words : [len(i) for i in list_of_words]\n",
    "\n",
    "print(calculate_length_of_words(['abcde','a','ab','abc']))"
   ]
  },
  {
   "cell_type": "code",
   "execution_count": null,
   "metadata": {},
   "outputs": [],
   "source": []
  },
  {
   "cell_type": "markdown",
   "metadata": {},
   "source": [
    "2.2 Write a Python function which takes a character (i.e. a string of length 1) and returns True if\n",
    "it is a vowel, False otherwise."
   ]
  },
  {
   "cell_type": "code",
   "execution_count": null,
   "metadata": {},
   "outputs": [],
   "source": []
  },
  {
   "cell_type": "code",
   "execution_count": 48,
   "metadata": {},
   "outputs": [],
   "source": [
    "#normal function\n",
    "\n",
    "vowel_list=['a','e','i','o','u']\n",
    "\n",
    "def is_vowel(word):\n",
    "    return word.lower() in vowel_list\n",
    "\n",
    "\n",
    "    "
   ]
  },
  {
   "cell_type": "code",
   "execution_count": 49,
   "metadata": {},
   "outputs": [
    {
     "name": "stdout",
     "output_type": "stream",
     "text": [
      "False\n"
     ]
    }
   ],
   "source": [
    "print(is_vowel('q'))"
   ]
  },
  {
   "cell_type": "code",
   "execution_count": 50,
   "metadata": {},
   "outputs": [
    {
     "name": "stdout",
     "output_type": "stream",
     "text": [
      "True\n"
     ]
    }
   ],
   "source": [
    "# lambda functionn\n",
    "\n",
    "is_vowel = lambda word : word.lower() in vowel_list  # since we have given only lowercase in vowel list , convert argument of function to lowercase\n",
    "\n",
    "print(is_vowel('A'))"
   ]
  }
 ],
 "metadata": {
  "kernelspec": {
   "display_name": "Python 3",
   "language": "python",
   "name": "python3"
  },
  "language_info": {
   "codemirror_mode": {
    "name": "ipython",
    "version": 3
   },
   "file_extension": ".py",
   "mimetype": "text/x-python",
   "name": "python",
   "nbconvert_exporter": "python",
   "pygments_lexer": "ipython3",
   "version": "3.7.3"
  }
 },
 "nbformat": 4,
 "nbformat_minor": 2
}
